{
  "cells": [
    {
      "cell_type": "code",
      "execution_count": null,
      "metadata": {
        "colab": {
          "base_uri": "https://localhost:8080/"
        },
        "id": "KGnADj7d2LXV",
        "outputId": "23a88b9f-af47-4462-d226-7c45c4d8b05c"
      },
      "outputs": [
        {
          "output_type": "stream",
          "name": "stdout",
          "text": [
            "Mounted at /content/drive/\n"
          ]
        },
        {
          "output_type": "stream",
          "name": "stderr",
          "text": [
            "WARNING:tensorflow:From /usr/local/lib/python3.10/dist-packages/tensorflow/python/compat/v2_compat.py:107: disable_resource_variables (from tensorflow.python.ops.variable_scope) is deprecated and will be removed in a future version.\n",
            "Instructions for updating:\n",
            "non-resource variables are not supported in the long term\n"
          ]
        }
      ],
      "source": [
        "from google.colab import drive\n",
        "drive.mount('/content/drive/')\n",
        "import numpy as np\n",
        "import pandas as pd\n",
        "import torch\n",
        "import torch.optim as optim\n",
        "import sklearn as sk\n",
        "import tensorflow.compat.v1 as tf\n",
        "tf.disable_v2_behavior()\n",
        "import matplotlib.pyplot as plt\n",
        "from sklearn.linear_model import LinearRegression\n",
        "from sklearn.metrics import mean_squared_error\n",
        "from sklearn.preprocessing import StandardScaler\n",
        "from sklearn.model_selection import train_test_split\n",
        "from sklearn.linear_model import LogisticRegression\n",
        "from sklearn.metrics import accuracy_score\n",
        " "
      ]
    },
    {
      "cell_type": "code",
      "execution_count": null,
      "metadata": {
        "colab": {
          "base_uri": "https://localhost:8080/",
          "height": 254
        },
        "id": "c-x81DKRvsVy",
        "outputId": "fce32c60-1386-4e65-8e39-51246a4d6522"
      },
      "outputs": [
        {
          "output_type": "execute_result",
          "data": {
            "text/plain": [
              "'\\n\\nx = df.iloc[:,0]\\ny = df.iloc[:,1]\\n\\nprint(df)\\nr = ((len(ageglucoseframe.iloc[:-1, 0])*ageglucoseframe.iloc[-1, 2]) - ageglucoseframe.iloc[-1, 0]*ageglucoseframe.iloc[-1, 1]) /         np.sqrt((len(ageglucoseframe.iloc[:-1, 0])*ageglucoseframe.iloc[-1, 3] - np.power(ageglucoseframe.iloc[-1, 0], 2)) *  \\n        (len(ageglucoseframe.iloc[:-1, 0])*ageglucoseframe.iloc[-1, 4]-np.power(ageglucoseframe.iloc[-1, 1], 2)))\\nprint(\"r value: \", r)'"
            ],
            "application/vnd.google.colaboratory.intrinsic+json": {
              "type": "string"
            }
          },
          "metadata": {},
          "execution_count": 2
        }
      ],
      "source": [
        "\"\"\"Create x and y variables\"\"\"\n",
        "df = pd.read_csv(\"/content/drive/MyDrive/Colabnotes/ncc/arobotthng/data.csv\")\n",
        "\"\"\"\n",
        "\n",
        "x = df.iloc[:,0]\n",
        "y = df.iloc[:,1]\n",
        "\n",
        "print(df)\n",
        "r = ((len(ageglucoseframe.iloc[:-1, 0])*ageglucoseframe.iloc[-1, 2]) - ageglucoseframe.iloc[-1, 0]*ageglucoseframe.iloc[-1, 1]) / \\\n",
        "        np.sqrt((len(ageglucoseframe.iloc[:-1, 0])*ageglucoseframe.iloc[-1, 3] - np.power(ageglucoseframe.iloc[-1, 0], 2)) *  \n",
        "        (len(ageglucoseframe.iloc[:-1, 0])*ageglucoseframe.iloc[-1, 4]-np.power(ageglucoseframe.iloc[-1, 1], 2)))\n",
        "print(\"r value: \", r)\"\"\"\n"
      ]
    },
    {
      "cell_type": "code",
      "execution_count": null,
      "metadata": {
        "id": "AL6X3E_9rH8Y",
        "colab": {
          "base_uri": "https://localhost:8080/",
          "height": 635
        },
        "outputId": "f1c2a9e0-e117-411f-8139-5a0d12ca8543"
      },
      "outputs": [
        {
          "output_type": "stream",
          "name": "stdout",
          "text": [
            "0      4\n",
            "1     11\n",
            "2     55\n",
            "3     40\n",
            "4     12\n",
            "      ..\n",
            "91    21\n",
            "92    33\n",
            "93    75\n",
            "94    66\n",
            "95    39\n",
            "Name: sizeonscreen, Length: 96, dtype: int64\n",
            "Predicted value:  [ 1.57540483  2.50504032  5.41789819  3.12479731 -0.40781755  4.3643113\n",
            " -0.59374465  1.01762353  5.54184959  2.56701602  4.9220926   4.1783842\n",
            " -0.03596336  0.83169644  2.25713752 -1.33745304  4.7361655   1.51342913\n",
            " -1.15152595 -0.90362315  0.02601234  0.27391514  2.69096742  1.14157493\n",
            " -0.09793906]\n",
            "Coef:  [-0.0619757]\n",
            "Intercept:  5.727776689861286\n",
            "MSE score:  5.569066059927869\n"
          ]
        },
        {
          "output_type": "display_data",
          "data": {
            "text/plain": [
              "<Figure size 640x480 with 1 Axes>"
            ],
            "image/png": "[encoded data removed]"
          },
          "metadata": {}
        }
      ],
      "source": [
        "#plt.plot(df.iloc[0:-1, 0], df.iloc[0:-1, 1], color=\"Orange\", linestyle=\"None\", marker=\".\", linewidth=3)\n",
        "lr = LinearRegression()\n",
        "x = df[\"sizeonscreen\"]\n",
        "y = df[\"realdistance\"]\n",
        "xtrain,xtest,ytrain,ytest = train_test_split(x,y,test_size=.2)\n",
        "xtrain.reset_index(drop=True,inplace=True)\n",
        "xtest.reset_index(drop=True,inplace=True)\n",
        "ytrain.reset_index(drop=True,inplace=True)\n",
        "ytest.reset_index(drop=True,inplace=True)\n",
        "print(xtrain)\n",
        "\n",
        "lr.fit(xtrain.values.reshape(-1,1),ytrain)\n",
        "print(\"Predicted value: \",lr.predict(xtest.values.reshape(-1,1)))\n",
        "print(\"Coef: \",lr.coef_) #predict W\n",
        "print(\"Intercept: \",lr.intercept_)\n",
        "y_pred = lr.predict(xtest.values.reshape(-1, 1))\n",
        "print(\"MSE score: \", mean_squared_error(ytest, y_pred))\n",
        "plt.plot(xtrain,lr.predict(xtrain.values.reshape(-1,1)),linestyle='--',color=\"Orange\")\n",
        "plt.plot(x,y,linestyle='--',color=\"Blue\")\n",
        "plt.grid()\n",
        "plt.xticks(np.arange(30, 133))\n",
        "plt.yticks(np.arange(0, 10))\n",
        "plt.xlabel('X')\n",
        "plt.ylabel('Y')\n",
        "plt.show()\n"
      ]
    },
    {
      "cell_type": "code",
      "execution_count": null,
      "metadata": {
        "id": "rAHbXfeYs-Vq"
      },
      "outputs": [],
      "source": [
        "xtrain,xtest,ytrain,ytest = train_test_split(x,y,test_size=.2).copy()\n",
        "xtrain.reset_index(drop=True,inplace=True)\n",
        "xtest.reset_index(drop=True,inplace=True)\n",
        "ytrain.reset_index(drop=True,inplace=True)\n",
        "ytest.reset_index(drop=True,inplace=True)\n",
        "# x = pd.Series(df[\"sizeonscreen\"],dtype=np.float32)\n",
        "\n",
        "xtrain,xtest = tf.Variable(xtrain.to_numpy(),dtype=\"float32\"),tf.Variable(xtest.to_numpy(),dtype=\"float32\")\n",
        "ytrain,ytest = tf.Variable(ytrain.to_numpy(),dtype=\"float32\"),tf.Variable(ytest.to_numpy(),dtype=\"float32\")\n"
      ]
    },
    {
      "cell_type": "code",
      "execution_count": null,
      "metadata": {
        "id": "qS7BfQdjw3gj",
        "colab": {
          "base_uri": "https://localhost:8080/",
          "height": 473
        },
        "outputId": "81384bac-72fc-4f0b-88a2-c77af707194f"
      },
      "outputs": [
        {
          "output_type": "stream",
          "name": "stdout",
          "text": [
            "Epoch    0 / 0 W: 0.002 b:0.625 Cost: 1001.113953\n",
            "Epoch 1000 / 1000 W: -0.002 b:0.882 Cost: 27.808935\n",
            "Epoch 2000 / 2000 W: -0.005 b:1.127 Cost: 27.095919\n",
            "Epoch 3000 / 3000 W: -0.008 b:1.360 Cost: 26.443037\n",
            "Epoch 4000 / 4000 W: -0.011 b:1.581 Cost: 25.844498\n",
            "Epoch 5000 / 5000 W: -0.013 b:1.792 Cost: 25.294769\n",
            "Epoch 6000 / 6000 W: -0.016 b:1.992 Cost: 24.789053\n",
            "Epoch 7000 / 7000 W: -0.018 b:2.182 Cost: 24.324377\n",
            "Epoch 8000 / 8000 W: -0.020 b:2.363 Cost: 23.898497\n",
            "Epoch 9000 / 9000 W: -0.022 b:2.534 Cost: 23.505190\n",
            "Epoch 10000 / 10000 W: -0.024 b:2.698 Cost: 23.141191\n"
          ]
        },
        {
          "output_type": "display_data",
          "data": {
            "text/plain": [
              "<Figure size 640x480 with 1 Axes>"
            ],
            "image/png": "[encoded data removed]"
          },
          "metadata": {}
        }
      ],
      "source": [
        "w = tf.Variable(tf.random_normal([1]),name=\"Weight\")\n",
        "b = tf.Variable(tf.random_normal([1]),name=\"bias\")\n",
        "\n",
        "hypothesis = w*xtrain+b\n",
        "cost = tf.reduce_mean(tf.square(hypothesis-ytrain))\n",
        "\n",
        "optim = tf.train.GradientDescentOptimizer(learning_rate = 1e-4).minimize(cost)\n",
        "\n",
        "\n",
        "\n",
        "\n",
        "with tf.Session() as sess:\n",
        "  sess.run(tf.global_variables_initializer())\n",
        "  for epoch in range(10001):\n",
        "\n",
        "    #prediction = tf.argmax(hypothesis,1)\n",
        "    #correct_pred = tf.equal(prediction,tf.argmax(ytrain,1))\n",
        "    #accuracy = tf.reduce_mean(tf.cast(correct_pred,tf.float32))\n",
        "    _,cost_val,w_val,b_val = sess.run([optim,cost,w,b])\n",
        "    \n",
        "    if epoch%1000 == 0:\n",
        "      prediction = tf.argmax(hypothesis,1)\n",
        "\n",
        "      correct_pred = tf.equal(prediction,tf.argmax(ytrain,1))\n",
        "      print('Epoch {:4d} / {} W: {:.3f} b:{:.3f} Cost: {:.6f}'.format(epoch, epoch, w_val.item(), b_val.item(), cost_val))\n",
        "\n",
        "# Plot the results\n",
        "plt.plot(df[\"sizeonscreen\"], df[\"realdistance\"], 'bo', label='Original data')\n",
        "plt.plot(df[\"sizeonscreen\"], w_val.item() * df[\"sizeonscreen\"] + b_val.item(), label='Fitted line')\n",
        "plt.legend()\n",
        "plt.show()"
      ]
    },
    {
      "cell_type": "code",
      "execution_count": null,
      "metadata": {
        "id": "ltsbxzi8Dl9u",
        "colab": {
          "base_uri": "https://localhost:8080/",
          "height": 311
        },
        "outputId": "1b8e5e9f-f24e-425a-cef8-25d8f8d8ad42"
      },
      "outputs": [
        {
          "output_type": "stream",
          "name": "stdout",
          "text": [
            "Epoch [0/1], Loss: 0.49778929352760315, Accuracy: 17.175003051757812%\n",
            "MSE score: 81.50442504882812\n"
          ]
        },
        {
          "output_type": "display_data",
          "data": {
            "text/plain": [
              "<Figure size 640x480 with 1 Axes>"
            ],
            "image/png": "[encoded data removed]"
          },
          "metadata": {}
        }
      ],
      "source": [
        "# Step 1: Import the necessary libraries \n",
        "import pandas as pd\n",
        "import numpy as np\n",
        "import torch\n",
        "from torch.utils.data import Dataset, DataLoader\n",
        "from sklearn.model_selection import train_test_split\n",
        "import torch.nn as nn\n",
        "import torch.optim as optim\n",
        "import matplotlib.pyplot as plt\n",
        "\n",
        "# Step 2: Create a custom dataset class\n",
        "class DepthPerceptionDataset(Dataset):\n",
        "    def __init__(self, data):\n",
        "        self.data = data\n",
        "\n",
        "    def __len__(self):\n",
        "        return len(self.data)\n",
        "\n",
        "    def __getitem__(self, idx):\n",
        "        return self.data.iloc[idx, 0], self.data.iloc[idx, 1]\n",
        "\n",
        "# Step 3: Define a simple linear regression model using PyTorch\n",
        "class LinearRegressionModel(nn.Module):\n",
        "    def __init__(self):\n",
        "        super(LinearRegressionModel, self).__init__()\n",
        "        self.linear = nn.Linear(1, 1)\n",
        "\n",
        "    def forward(self, x):\n",
        "        return self.linear(x)\n",
        "\n",
        "# Load and preprocess the data\n",
        "df = pd.read_csv(\"/content/drive/MyDrive/Colabnotes/ncc/arobotthng/data.csv\")\n",
        "train_data, test_data = train_test_split(df, test_size=0.2)\n",
        "train_dataset = DepthPerceptionDataset(train_data)\n",
        "test_dataset = DepthPerceptionDataset(test_data)\n",
        "\n",
        "train_dataloader = DataLoader(train_dataset, batch_size=1, shuffle=True)\n",
        "test_dataloader = DataLoader(test_dataset, batch_size=len(test_data), shuffle=False)\n",
        "\n",
        "# Initialize the model, loss function, and optimizer\n",
        "model = LinearRegressionModel()\n",
        "criterion = nn.MSELoss()\n",
        "optimizer = optim.SGD(model.parameters(), lr=1e-4)\n",
        "\n",
        "# Step 5: Train the model\n",
        "num_epochs = 1\n",
        "loss_values = []\n",
        "for epoch in range(num_epochs):\n",
        "    for x, y in train_dataloader:\n",
        "        x = x.view(-1, 1).float()\n",
        "        y = y.view(-1, 1).float()\n",
        "\n",
        "        optimizer.zero_grad()\n",
        "\n",
        "        outputs = model(x)\n",
        "        loss = criterion(outputs, y)\n",
        "        accuracy = (torch.argmax(outputs,1) - y).float().square().mean()\n",
        "        loss.backward()\n",
        "        optimizer.step()\n",
        "\n",
        "    if epoch % 100 == 0:\n",
        "        print(f\"Epoch [{epoch}/{num_epochs}], Loss: {loss.item()}, Accuracy: {accuracy*100.}%\")\n",
        "        loss_values.append(loss.item())\n",
        "\n",
        "# Step 6: Evaluate the model\n",
        "model.eval()\n",
        "y_pred = []\n",
        "y_true = []\n",
        "for x, y in test_dataloader:\n",
        "    x = x.view(-1, 1).float()\n",
        "    y = y.view(-1, 1).float()\n",
        "\n",
        "    with torch.no_grad():\n",
        "        output = model(x)\n",
        "        y_pred.extend(output.numpy().flatten())\n",
        "        y_true.extend(y.numpy().flatten())\n",
        "\n",
        "mse = np.mean((np.array(y_pred) - np.array(y_true)) ** 2)\n",
        "print(f\"MSE score: {mse}\")\n",
        "\n",
        "# Plot the results\n",
        "plt.plot(df[\"sizeonscreen\"], df[\"realdistance\"], 'bo', label='Original data')\n",
        "plt.plot(df[\"sizeonscreen\"], model.linear.weight.item() * df[\"sizeonscreen\"] + model.linear.bias.item(), label='Fitted line')\n",
        "plt.legend()\n",
        "plt.show()\n"
      ]
    },
    {
      "cell_type": "code",
      "execution_count": null,
      "metadata": {
        "id": "O2Su0tuaDl9u"
      },
      "outputs": [],
      "source": []
    },
    {
      "cell_type": "code",
      "execution_count": null,
      "metadata": {
        "id": "0xPtrX5TDl9v"
      },
      "outputs": [],
      "source": []
    },
    {
      "cell_type": "code",
      "execution_count": null,
      "metadata": {
        "id": "2bNnKJw5Dl9v"
      },
      "outputs": [],
      "source": []
    },
    {
      "cell_type": "code",
      "execution_count": null,
      "metadata": {
        "id": "k2Mibjk5Dl9v"
      },
      "outputs": [],
      "source": []
    },
    {
      "cell_type": "code",
      "execution_count": null,
      "metadata": {
        "id": "tR1FlDM6Dl9v"
      },
      "outputs": [],
      "source": []
    }
  ],
  "metadata": {
    "colab": {
      "provenance": []
    },
    "kernelspec": {
      "display_name": "Python 3",
      "name": "python3"
    },
    "language_info": {
      "codemirror_mode": {
        "name": "ipython",
        "version": 3
      },
      "file_extension": ".py",
      "mimetype": "text/x-python",
      "name": "python",
      "nbconvert_exporter": "python",
      "pygments_lexer": "ipython3",
      "version": "3.10.11"
    }
  },
  "nbformat": 4,
  "nbformat_minor": 0
}